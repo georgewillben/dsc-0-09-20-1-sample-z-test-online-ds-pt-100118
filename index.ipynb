{
 "cells": [
  {
   "cell_type": "markdown",
   "metadata": {},
   "source": [
    "# One-sample z-test - Lab\n",
    "\n",
    "### Introduction\n",
    "In this lab we will go through quick tests to help you better understand the ideas around hypothesis testing.\n",
    "\n",
    "## Objectives\n",
    "You would be able to\n",
    "* Understand and explain use cases for a 1-sample z-test\n",
    "* Set up null and alternative hypotheses\n",
    "* Calculate z statistic using z-tables and cdf functions\n",
    "* Calculate and interpret p-value for significance of results."
   ]
  },
  {
   "cell_type": "markdown",
   "metadata": {},
   "source": [
    "## Exercise 1\n",
    "A rental car company claims the mean time to rent a car on their website is 60 seconds with a standard deviation of 30 seconds. A random sample of 36 customers attempted to rent a car on the website. The mean time to rent was 75 seconds. Is this enough evidence to contradict the company's claim? \n",
    "\n",
    "<img src=\"http://www.guptatravelsjabalpur.com/wp-content/uploads/2016/04/car-rentalservice.jpg\" width=400>\n",
    "\n",
    "Follow the 5 steps shown in previous lesson and use alpha = 0.05. "
   ]
  },
  {
   "cell_type": "code",
   "execution_count": 6,
   "metadata": {},
   "outputs": [],
   "source": [
    "# State you null and alternative hypotheses\n",
    "# null hypothesis sample mean <= population mean\n",
    "# alternate hypothesis population mean > sample mean"
   ]
  },
  {
   "cell_type": "code",
   "execution_count": 29,
   "metadata": {},
   "outputs": [
    {
     "name": "stdout",
     "output_type": "stream",
     "text": [
      "3.0\n",
      "0.0013498980316301035\n"
     ]
    }
   ],
   "source": [
    "# Your solution here\n",
    "from math import sqrt\n",
    "import scipy.stats as stats\n",
    "import numpy as np\n",
    "import matplotlib.pyplot as plt\n",
    "x_bar = 75\n",
    "mu = 60\n",
    "sigma = 30\n",
    "n = 36\n",
    "\n",
    "z = (x_bar - mu)/(sigma/sqrt(n))\n",
    "\n",
    "p =  1 - stats.norm.cdf(z)\n",
    "print(z)\n",
    "print(p)\n",
    "# (p = 0.0013498980316301035, z = 3.0)"
   ]
  },
  {
   "cell_type": "code",
   "execution_count": 37,
   "metadata": {},
   "outputs": [
    {
     "data": {
      "image/png": "[encoded data removed]",
      "text/plain": [
       "<Figure size 432x288 with 1 Axes>"
      ]
     },
     "metadata": {
      "needs_background": "light"
     },
     "output_type": "display_data"
    }
   ],
   "source": [
    "# Interpret the results in terms of p-value obtained\n",
    "# This seems to be enough evidience to contradict the companies claim\n",
    "#  The p-value is below the alpha value making the difference in time between the two groups statistically significant\n",
    "# it can be said with over 95% confidence that the mean time to rent a car will be over 60 seconds\n",
    "\n",
    "plt.fill_between(x = np.arange(-4,z,.001),\n",
    "                 y1 = stats.norm.pdf(np.arange(-4,z,.001)),\n",
    "                 color = 'blue',\n",
    "                label = 'area below z statistic')\n",
    "plt.fill_between(x= np.arange(z,4,.001),\n",
    "                y1 = stats.norm.pdf(np.arange(z,4,.001)),\n",
    "                color = 'orange',\n",
    "                label = 'area aboive z statistic')\n",
    "plt.legend()\n",
    "plt.show()"
   ]
  },
  {
   "cell_type": "markdown",
   "metadata": {},
   "source": [
    "## Exercise 2\n",
    "\n",
    "Twenty five students complete a preparation program for taking the SAT test.  Here are the SAT scores from the 25 students who completed  program:\n",
    "\n",
    "``\n",
    "434 694 457 534 720 400 484 478 610 641 425 636 454\n",
    "514 563 370 499 640 501 625 612 471 598 509 531\n",
    "``\n",
    "\n",
    "<img src=\"http://falearningsolutions.com/wp-content/uploads/2015/09/FAcogtrain71FBimage.jpg\" width=400>\n",
    "\n",
    "We know that the population average for SAT scores is 500 with a standard deviation of 100.\n",
    "\n",
    "The question is, are these students’ SAT scores significantly greater than a population mean? \n",
    "\n",
    "*Note that the the maker of the SAT prep program claims that it will increase (and not decrease) your SAT score.  So, you would be justified in conducting a one-directional test. (alpha = .05).*\n",
    "\n"
   ]
  },
  {
   "cell_type": "code",
   "execution_count": 1,
   "metadata": {},
   "outputs": [],
   "source": [
    "# State your hypotheses \n",
    "# null hypothesis is that population mean >= sample mean\n",
    "# alternative hypothesis is that population mean < samle mean"
   ]
  },
  {
   "cell_type": "code",
   "execution_count": 35,
   "metadata": {},
   "outputs": [
    {
     "name": "stdout",
     "output_type": "stream",
     "text": [
      "-1.8 0.03593031911292579\n"
     ]
    }
   ],
   "source": [
    "# Give your solution here \n",
    "\n",
    "\n",
    "string = '434 694 457 534 720 400 484 478 610 641 425 636 454 514 563 370 499 640 501 625 612 471 598 509 531'\n",
    "lst = string.split(' ')\n",
    "lst = [int(x) for x in lst]\n",
    "\n",
    "x_bar = 500\n",
    "n = 25\n",
    "\n",
    "mu = sum(lst)/len(lst)\n",
    "sigma = 100\n",
    "\n",
    "z = (x_bar - mu)/(sigma/sqrt(n))\n",
    "p = stats.norm.cdf(z)\n",
    "\n",
    "print(z, p)\n",
    "# p = 0.03593031911292577, z = 1.8\n",
    "\n"
   ]
  },
  {
   "cell_type": "code",
   "execution_count": 36,
   "metadata": {},
   "outputs": [
    {
     "data": {
      "image/png": "[encoded data removed]",
      "text/plain": [
       "<Figure size 432x288 with 1 Axes>"
      ]
     },
     "metadata": {
      "needs_background": "light"
     },
     "output_type": "display_data"
    }
   ],
   "source": [
    "# Interpret the results in terms of p-value obtained\n",
    "# since the p-value is less than our alpha value (0.035 < 0.5) so this is statistically significant\n",
    "#  with 95% confidence I can say that the SAT prep program increases SAT scores\n",
    "\n",
    "plt.fill_between(x = np.arange(-4,z,.001),\n",
    "                y1 = stats.norm.pdf(np.arange(-4,z,.001)),\n",
    "                color = 'blue')\n",
    "\n",
    "plt.fill_between(x = np.arange(z,4,.001),\n",
    "                y1 = stats.norm.pdf(np.arange(z,4,.001)),\n",
    "                color = 'orange')\n",
    "plt.show()"
   ]
  },
  {
   "cell_type": "markdown",
   "metadata": {},
   "source": [
    "## Summary\n",
    "\n",
    "In this lesson, we conducted a couple of simple tests comparing sample and population means, in an attempt to reject our null hypotheses. This provides you with a strong foundation to move ahead with more advanced tests and approaches in statistics. "
   ]
  },
  {
   "cell_type": "code",
   "execution_count": null,
   "metadata": {},
   "outputs": [],
   "source": []
  }
 ],
 "metadata": {
  "kernelspec": {
   "display_name": "Python 3",
   "language": "python",
   "name": "python3"
  },
  "language_info": {
   "codemirror_mode": {
    "name": "ipython",
    "version": 3
   },
   "file_extension": ".py",
   "mimetype": "text/x-python",
   "name": "python",
   "nbconvert_exporter": "python",
   "pygments_lexer": "ipython3",
   "version": "3.6.6"
  }
 },
 "nbformat": 4,
 "nbformat_minor": 2
}
